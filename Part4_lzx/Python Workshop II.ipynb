{
 "cells": [
  {
   "cell_type": "markdown",
   "id": "29bd4fd9c525d13",
   "metadata": {
    "collapsed": false
   },
   "source": [
    "# Python and Data Analysis"
   ]
  },
  {
   "cell_type": "markdown",
   "id": "da6b49e41a0f6972",
   "metadata": {
    "collapsed": false
   },
   "source": [
    "## Import Libraries\n",
    "First, we need to import some common data analysis libraries."
   ]
  },
  {
   "cell_type": "code",
   "execution_count": 31,
   "id": "d8e8f90e859e95ed",
   "metadata": {
    "ExecuteTime": {
     "end_time": "2023-11-26T05:36:09.331777Z",
     "start_time": "2023-11-26T05:36:09.285071Z"
    },
    "collapsed": false
   },
   "outputs": [],
   "source": [
    "import pandas as pd\n",
    "import numpy as np"
   ]
  },
  {
   "cell_type": "markdown",
   "id": "4109e716afdd3b1e",
   "metadata": {
    "collapsed": false
   },
   "source": [
    "## Import Dataset\n",
    "Read data set from `.csv` file"
   ]
  },
  {
   "cell_type": "code",
   "execution_count": 32,
   "id": "2436602b49acac3d",
   "metadata": {
    "ExecuteTime": {
     "end_time": "2023-11-26T05:36:09.466071Z",
     "start_time": "2023-11-26T05:36:09.287876Z"
    },
    "collapsed": false
   },
   "outputs": [
    {
     "data": {
      "text/html": [
       "<div>\n",
       "<style scoped>\n",
       "    .dataframe tbody tr th:only-of-type {\n",
       "        vertical-align: middle;\n",
       "    }\n",
       "\n",
       "    .dataframe tbody tr th {\n",
       "        vertical-align: top;\n",
       "    }\n",
       "\n",
       "    .dataframe thead th {\n",
       "        text-align: right;\n",
       "    }\n",
       "</style>\n",
       "<table border=\"1\" class=\"dataframe\">\n",
       "  <thead>\n",
       "    <tr style=\"text-align: right;\">\n",
       "      <th></th>\n",
       "      <th>date</th>\n",
       "      <th>rank</th>\n",
       "      <th>song</th>\n",
       "      <th>artist</th>\n",
       "      <th>last-week</th>\n",
       "      <th>peak-rank</th>\n",
       "      <th>weeks-on-board</th>\n",
       "    </tr>\n",
       "  </thead>\n",
       "  <tbody>\n",
       "    <tr>\n",
       "      <th>0</th>\n",
       "      <td>2021-11-06</td>\n",
       "      <td>1</td>\n",
       "      <td>Easy On Me</td>\n",
       "      <td>Adele</td>\n",
       "      <td>1.0</td>\n",
       "      <td>1</td>\n",
       "      <td>3</td>\n",
       "    </tr>\n",
       "    <tr>\n",
       "      <th>1</th>\n",
       "      <td>2021-11-06</td>\n",
       "      <td>2</td>\n",
       "      <td>Stay</td>\n",
       "      <td>The Kid LAROI &amp; Justin Bieber</td>\n",
       "      <td>2.0</td>\n",
       "      <td>1</td>\n",
       "      <td>16</td>\n",
       "    </tr>\n",
       "    <tr>\n",
       "      <th>2</th>\n",
       "      <td>2021-11-06</td>\n",
       "      <td>3</td>\n",
       "      <td>Industry Baby</td>\n",
       "      <td>Lil Nas X &amp; Jack Harlow</td>\n",
       "      <td>3.0</td>\n",
       "      <td>1</td>\n",
       "      <td>14</td>\n",
       "    </tr>\n",
       "    <tr>\n",
       "      <th>3</th>\n",
       "      <td>2021-11-06</td>\n",
       "      <td>4</td>\n",
       "      <td>Fancy Like</td>\n",
       "      <td>Walker Hayes</td>\n",
       "      <td>4.0</td>\n",
       "      <td>3</td>\n",
       "      <td>19</td>\n",
       "    </tr>\n",
       "    <tr>\n",
       "      <th>4</th>\n",
       "      <td>2021-11-06</td>\n",
       "      <td>5</td>\n",
       "      <td>Bad Habits</td>\n",
       "      <td>Ed Sheeran</td>\n",
       "      <td>5.0</td>\n",
       "      <td>2</td>\n",
       "      <td>18</td>\n",
       "    </tr>\n",
       "    <tr>\n",
       "      <th>...</th>\n",
       "      <td>...</td>\n",
       "      <td>...</td>\n",
       "      <td>...</td>\n",
       "      <td>...</td>\n",
       "      <td>...</td>\n",
       "      <td>...</td>\n",
       "      <td>...</td>\n",
       "    </tr>\n",
       "    <tr>\n",
       "      <th>330082</th>\n",
       "      <td>1958-08-04</td>\n",
       "      <td>96</td>\n",
       "      <td>Over And Over</td>\n",
       "      <td>Thurston Harris</td>\n",
       "      <td>NaN</td>\n",
       "      <td>96</td>\n",
       "      <td>1</td>\n",
       "    </tr>\n",
       "    <tr>\n",
       "      <th>330083</th>\n",
       "      <td>1958-08-04</td>\n",
       "      <td>97</td>\n",
       "      <td>I Believe In You</td>\n",
       "      <td>Robert &amp; Johnny</td>\n",
       "      <td>NaN</td>\n",
       "      <td>97</td>\n",
       "      <td>1</td>\n",
       "    </tr>\n",
       "    <tr>\n",
       "      <th>330084</th>\n",
       "      <td>1958-08-04</td>\n",
       "      <td>98</td>\n",
       "      <td>Little Serenade</td>\n",
       "      <td>The Ames Brothers</td>\n",
       "      <td>NaN</td>\n",
       "      <td>98</td>\n",
       "      <td>1</td>\n",
       "    </tr>\n",
       "    <tr>\n",
       "      <th>330085</th>\n",
       "      <td>1958-08-04</td>\n",
       "      <td>99</td>\n",
       "      <td>I'll Get By (As Long As I Have You)</td>\n",
       "      <td>Billy Williams</td>\n",
       "      <td>NaN</td>\n",
       "      <td>99</td>\n",
       "      <td>1</td>\n",
       "    </tr>\n",
       "    <tr>\n",
       "      <th>330086</th>\n",
       "      <td>1958-08-04</td>\n",
       "      <td>100</td>\n",
       "      <td>Judy</td>\n",
       "      <td>Frankie Vaughan</td>\n",
       "      <td>NaN</td>\n",
       "      <td>100</td>\n",
       "      <td>1</td>\n",
       "    </tr>\n",
       "  </tbody>\n",
       "</table>\n",
       "<p>330087 rows × 7 columns</p>\n",
       "</div>"
      ],
      "text/plain": [
       "              date  rank                                 song  \\\n",
       "0       2021-11-06     1                           Easy On Me   \n",
       "1       2021-11-06     2                                 Stay   \n",
       "2       2021-11-06     3                        Industry Baby   \n",
       "3       2021-11-06     4                           Fancy Like   \n",
       "4       2021-11-06     5                           Bad Habits   \n",
       "...            ...   ...                                  ...   \n",
       "330082  1958-08-04    96                        Over And Over   \n",
       "330083  1958-08-04    97                     I Believe In You   \n",
       "330084  1958-08-04    98                      Little Serenade   \n",
       "330085  1958-08-04    99  I'll Get By (As Long As I Have You)   \n",
       "330086  1958-08-04   100                                 Judy   \n",
       "\n",
       "                               artist  last-week  peak-rank  weeks-on-board  \n",
       "0                               Adele        1.0          1               3  \n",
       "1       The Kid LAROI & Justin Bieber        2.0          1              16  \n",
       "2             Lil Nas X & Jack Harlow        3.0          1              14  \n",
       "3                        Walker Hayes        4.0          3              19  \n",
       "4                          Ed Sheeran        5.0          2              18  \n",
       "...                               ...        ...        ...             ...  \n",
       "330082                Thurston Harris        NaN         96               1  \n",
       "330083                Robert & Johnny        NaN         97               1  \n",
       "330084              The Ames Brothers        NaN         98               1  \n",
       "330085                 Billy Williams        NaN         99               1  \n",
       "330086                Frankie Vaughan        NaN        100               1  \n",
       "\n",
       "[330087 rows x 7 columns]"
      ]
     },
     "execution_count": 32,
     "metadata": {},
     "output_type": "execute_result"
    }
   ],
   "source": [
    "df = pd.read_csv(\"./data/example.csv\", encoding=\"GBK\")\n",
    "df"
   ]
  },
  {
   "cell_type": "markdown",
   "id": "a55ded4440e3a536",
   "metadata": {
    "collapsed": false
   },
   "source": [
    "## Data Match\n",
    "After we import the dataset, we can easily concentrate on one column.\n",
    "For example, if we want to find the data which \"artist\" value = \"Ed Sheeran\", we can"
   ]
  },
  {
   "cell_type": "code",
   "execution_count": 33,
   "id": "ed9bc10dc9066538",
   "metadata": {
    "ExecuteTime": {
     "end_time": "2023-11-26T05:36:09.481472Z",
     "start_time": "2023-11-26T05:36:09.474135Z"
    },
    "collapsed": false
   },
   "outputs": [
    {
     "data": {
      "text/html": [
       "<div>\n",
       "<style scoped>\n",
       "    .dataframe tbody tr th:only-of-type {\n",
       "        vertical-align: middle;\n",
       "    }\n",
       "\n",
       "    .dataframe tbody tr th {\n",
       "        vertical-align: top;\n",
       "    }\n",
       "\n",
       "    .dataframe thead th {\n",
       "        text-align: right;\n",
       "    }\n",
       "</style>\n",
       "<table border=\"1\" class=\"dataframe\">\n",
       "  <thead>\n",
       "    <tr style=\"text-align: right;\">\n",
       "      <th></th>\n",
       "      <th>date</th>\n",
       "      <th>rank</th>\n",
       "      <th>song</th>\n",
       "      <th>artist</th>\n",
       "      <th>last-week</th>\n",
       "      <th>peak-rank</th>\n",
       "      <th>weeks-on-board</th>\n",
       "    </tr>\n",
       "  </thead>\n",
       "  <tbody>\n",
       "    <tr>\n",
       "      <th>4</th>\n",
       "      <td>2021-11-06</td>\n",
       "      <td>5</td>\n",
       "      <td>Bad Habits</td>\n",
       "      <td>Ed Sheeran</td>\n",
       "      <td>5.0</td>\n",
       "      <td>2</td>\n",
       "      <td>18</td>\n",
       "    </tr>\n",
       "    <tr>\n",
       "      <th>6</th>\n",
       "      <td>2021-11-06</td>\n",
       "      <td>7</td>\n",
       "      <td>Shivers</td>\n",
       "      <td>Ed Sheeran</td>\n",
       "      <td>9.0</td>\n",
       "      <td>7</td>\n",
       "      <td>7</td>\n",
       "    </tr>\n",
       "    <tr>\n",
       "      <th>104</th>\n",
       "      <td>2021-10-30</td>\n",
       "      <td>5</td>\n",
       "      <td>Bad Habits</td>\n",
       "      <td>Ed Sheeran</td>\n",
       "      <td>4.0</td>\n",
       "      <td>2</td>\n",
       "      <td>17</td>\n",
       "    </tr>\n",
       "    <tr>\n",
       "      <th>108</th>\n",
       "      <td>2021-10-30</td>\n",
       "      <td>9</td>\n",
       "      <td>Shivers</td>\n",
       "      <td>Ed Sheeran</td>\n",
       "      <td>10.0</td>\n",
       "      <td>9</td>\n",
       "      <td>6</td>\n",
       "    </tr>\n",
       "    <tr>\n",
       "      <th>203</th>\n",
       "      <td>2021-10-23</td>\n",
       "      <td>4</td>\n",
       "      <td>Bad Habits</td>\n",
       "      <td>Ed Sheeran</td>\n",
       "      <td>5.0</td>\n",
       "      <td>2</td>\n",
       "      <td>16</td>\n",
       "    </tr>\n",
       "    <tr>\n",
       "      <th>...</th>\n",
       "      <td>...</td>\n",
       "      <td>...</td>\n",
       "      <td>...</td>\n",
       "      <td>...</td>\n",
       "      <td>...</td>\n",
       "      <td>...</td>\n",
       "      <td>...</td>\n",
       "    </tr>\n",
       "    <tr>\n",
       "      <th>48084</th>\n",
       "      <td>2012-08-25</td>\n",
       "      <td>85</td>\n",
       "      <td>The A Team</td>\n",
       "      <td>Ed Sheeran</td>\n",
       "      <td>92.0</td>\n",
       "      <td>85</td>\n",
       "      <td>5</td>\n",
       "    </tr>\n",
       "    <tr>\n",
       "      <th>48191</th>\n",
       "      <td>2012-08-18</td>\n",
       "      <td>92</td>\n",
       "      <td>The A Team</td>\n",
       "      <td>Ed Sheeran</td>\n",
       "      <td>99.0</td>\n",
       "      <td>92</td>\n",
       "      <td>4</td>\n",
       "    </tr>\n",
       "    <tr>\n",
       "      <th>48298</th>\n",
       "      <td>2012-08-11</td>\n",
       "      <td>99</td>\n",
       "      <td>The A Team</td>\n",
       "      <td>Ed Sheeran</td>\n",
       "      <td>98.0</td>\n",
       "      <td>95</td>\n",
       "      <td>3</td>\n",
       "    </tr>\n",
       "    <tr>\n",
       "      <th>48397</th>\n",
       "      <td>2012-08-04</td>\n",
       "      <td>98</td>\n",
       "      <td>The A Team</td>\n",
       "      <td>Ed Sheeran</td>\n",
       "      <td>95.0</td>\n",
       "      <td>95</td>\n",
       "      <td>2</td>\n",
       "    </tr>\n",
       "    <tr>\n",
       "      <th>48494</th>\n",
       "      <td>2012-07-28</td>\n",
       "      <td>95</td>\n",
       "      <td>The A Team</td>\n",
       "      <td>Ed Sheeran</td>\n",
       "      <td>NaN</td>\n",
       "      <td>95</td>\n",
       "      <td>1</td>\n",
       "    </tr>\n",
       "  </tbody>\n",
       "</table>\n",
       "<p>397 rows × 7 columns</p>\n",
       "</div>"
      ],
      "text/plain": [
       "             date  rank        song      artist  last-week  peak-rank  \\\n",
       "4      2021-11-06     5  Bad Habits  Ed Sheeran        5.0          2   \n",
       "6      2021-11-06     7     Shivers  Ed Sheeran        9.0          7   \n",
       "104    2021-10-30     5  Bad Habits  Ed Sheeran        4.0          2   \n",
       "108    2021-10-30     9     Shivers  Ed Sheeran       10.0          9   \n",
       "203    2021-10-23     4  Bad Habits  Ed Sheeran        5.0          2   \n",
       "...           ...   ...         ...         ...        ...        ...   \n",
       "48084  2012-08-25    85  The A Team  Ed Sheeran       92.0         85   \n",
       "48191  2012-08-18    92  The A Team  Ed Sheeran       99.0         92   \n",
       "48298  2012-08-11    99  The A Team  Ed Sheeran       98.0         95   \n",
       "48397  2012-08-04    98  The A Team  Ed Sheeran       95.0         95   \n",
       "48494  2012-07-28    95  The A Team  Ed Sheeran        NaN         95   \n",
       "\n",
       "       weeks-on-board  \n",
       "4                  18  \n",
       "6                   7  \n",
       "104                17  \n",
       "108                 6  \n",
       "203                16  \n",
       "...               ...  \n",
       "48084               5  \n",
       "48191               4  \n",
       "48298               3  \n",
       "48397               2  \n",
       "48494               1  \n",
       "\n",
       "[397 rows x 7 columns]"
      ]
     },
     "execution_count": 33,
     "metadata": {},
     "output_type": "execute_result"
    }
   ],
   "source": [
    "df[df[\"artist\"] == \"Ed Sheeran\"]"
   ]
  },
  {
   "cell_type": "markdown",
   "id": "ae8c28a4931ff536",
   "metadata": {
    "collapsed": false
   },
   "source": [
    "Similarly, if we need find the song with the largest \"weeks-on-board\" value,"
   ]
  },
  {
   "cell_type": "code",
   "execution_count": 34,
   "id": "1160db055af877a7",
   "metadata": {
    "ExecuteTime": {
     "end_time": "2023-11-26T05:36:09.489700Z",
     "start_time": "2023-11-26T05:36:09.480597Z"
    },
    "collapsed": false
   },
   "outputs": [
    {
     "data": {
      "text/html": [
       "<div>\n",
       "<style scoped>\n",
       "    .dataframe tbody tr th:only-of-type {\n",
       "        vertical-align: middle;\n",
       "    }\n",
       "\n",
       "    .dataframe tbody tr th {\n",
       "        vertical-align: top;\n",
       "    }\n",
       "\n",
       "    .dataframe thead th {\n",
       "        text-align: right;\n",
       "    }\n",
       "</style>\n",
       "<table border=\"1\" class=\"dataframe\">\n",
       "  <thead>\n",
       "    <tr style=\"text-align: right;\">\n",
       "      <th></th>\n",
       "      <th>date</th>\n",
       "      <th>rank</th>\n",
       "      <th>song</th>\n",
       "      <th>artist</th>\n",
       "      <th>last-week</th>\n",
       "      <th>peak-rank</th>\n",
       "      <th>weeks-on-board</th>\n",
       "    </tr>\n",
       "  </thead>\n",
       "  <tbody>\n",
       "    <tr>\n",
       "      <th>919</th>\n",
       "      <td>2021-09-04</td>\n",
       "      <td>20</td>\n",
       "      <td>Blinding Lights</td>\n",
       "      <td>The Weeknd</td>\n",
       "      <td>21.0</td>\n",
       "      <td>1</td>\n",
       "      <td>90</td>\n",
       "    </tr>\n",
       "  </tbody>\n",
       "</table>\n",
       "</div>"
      ],
      "text/plain": [
       "           date  rank             song      artist  last-week  peak-rank  \\\n",
       "919  2021-09-04    20  Blinding Lights  The Weeknd       21.0          1   \n",
       "\n",
       "     weeks-on-board  \n",
       "919              90  "
      ]
     },
     "execution_count": 34,
     "metadata": {},
     "output_type": "execute_result"
    }
   ],
   "source": [
    "df[df[\"weeks-on-board\"] == np.max(df[\"weeks-on-board\"])]"
   ]
  },
  {
   "cell_type": "markdown",
   "id": "62083ef8605e82d3",
   "metadata": {
    "collapsed": false
   },
   "source": [
    "## Data Clean\n",
    "Usually, the dataset can contain some missing values or error values, which will impede our analysis.\n",
    "Therefore, we always need to clean the data first. "
   ]
  },
  {
   "cell_type": "markdown",
   "id": "db711e2103db7220",
   "metadata": {
    "collapsed": false
   },
   "source": [
    "### Missing Values\n",
    "We can check the missing values by the following function,"
   ]
  },
  {
   "cell_type": "code",
   "execution_count": 35,
   "id": "1be03e1cdecf94",
   "metadata": {
    "ExecuteTime": {
     "end_time": "2023-11-26T05:36:09.533748Z",
     "start_time": "2023-11-26T05:36:09.492905Z"
    },
    "collapsed": false
   },
   "outputs": [
    {
     "name": "stdout",
     "output_type": "stream",
     "text": [
      "[Index([], dtype='int64'), 'date']\n",
      "[Index([], dtype='int64'), 'rank']\n",
      "[Index([], dtype='int64'), 'song']\n",
      "[Index([], dtype='int64'), 'artist']\n",
      "[Index([    26,     27,     60,     68,     78,     86,     87,     88,     89,\n",
      "           95,\n",
      "       ...\n",
      "       330077, 330078, 330079, 330080, 330081, 330082, 330083, 330084, 330085,\n",
      "       330086],\n",
      "      dtype='int64', length=32312), 'last-week']\n",
      "[Index([], dtype='int64'), 'peak-rank']\n",
      "[Index([], dtype='int64'), 'weeks-on-board']\n"
     ]
    }
   ],
   "source": [
    "def check_missing_v1(df):\n",
    "    for column in df:\n",
    "        print([df[df[column].isnull()].index, column])\n",
    "    return \n",
    "        \n",
    "        \n",
    "def check_missing_v2(df):\n",
    "    for column in df:\n",
    "        if df[df[column].isnull()].index.size > 0:\n",
    "            print([df[df[column].isnull()].index, column])\n",
    "    return \n",
    "            \n",
    "            \n",
    "check_missing_v1(df)\n",
    "# check_missing_v2(df)"
   ]
  },
  {
   "cell_type": "markdown",
   "id": "828c780a2a70cbf7",
   "metadata": {
    "collapsed": false
   },
   "source": [
    "### Error Values\n",
    "We can edit the values or just delete the values in the dataset."
   ]
  },
  {
   "cell_type": "markdown",
   "id": "37caae44887d2b85",
   "metadata": {
    "collapsed": false
   },
   "source": [
    "If we need to change a value,"
   ]
  },
  {
   "cell_type": "code",
   "execution_count": 36,
   "id": "51a61d6d9e1f928c",
   "metadata": {
    "ExecuteTime": {
     "end_time": "2023-11-26T05:36:09.546988Z",
     "start_time": "2023-11-26T05:36:09.508795Z"
    },
    "collapsed": false
   },
   "outputs": [
    {
     "data": {
      "text/plain": [
       "date                                       2021-11-06\n",
       "rank                                                6\n",
       "song                                       Way 2 Sexy\n",
       "artist            Drake Featuring Future & Young Thug\n",
       "last-week                                         6.0\n",
       "peak-rank                                           1\n",
       "weeks-on-board                                      8\n",
       "Name: 5, dtype: object"
      ]
     },
     "execution_count": 36,
     "metadata": {},
     "output_type": "execute_result"
    }
   ],
   "source": [
    "# df.loc[5, \"last-week\"] = 7.0\n",
    "df.loc[5]"
   ]
  },
  {
   "cell_type": "markdown",
   "id": "6e24b1f89ea11df",
   "metadata": {
    "collapsed": false
   },
   "source": [
    "If we need to add one column \"year\","
   ]
  },
  {
   "cell_type": "code",
   "execution_count": 37,
   "id": "44850f34d77c10a0",
   "metadata": {
    "ExecuteTime": {
     "end_time": "2023-11-26T05:36:09.608257Z",
     "start_time": "2023-11-26T05:36:09.541975Z"
    },
    "collapsed": false
   },
   "outputs": [
    {
     "data": {
      "text/html": [
       "<div>\n",
       "<style scoped>\n",
       "    .dataframe tbody tr th:only-of-type {\n",
       "        vertical-align: middle;\n",
       "    }\n",
       "\n",
       "    .dataframe tbody tr th {\n",
       "        vertical-align: top;\n",
       "    }\n",
       "\n",
       "    .dataframe thead th {\n",
       "        text-align: right;\n",
       "    }\n",
       "</style>\n",
       "<table border=\"1\" class=\"dataframe\">\n",
       "  <thead>\n",
       "    <tr style=\"text-align: right;\">\n",
       "      <th></th>\n",
       "      <th>date</th>\n",
       "      <th>year</th>\n",
       "      <th>rank</th>\n",
       "      <th>song</th>\n",
       "      <th>artist</th>\n",
       "      <th>last-week</th>\n",
       "      <th>peak-rank</th>\n",
       "      <th>weeks-on-board</th>\n",
       "    </tr>\n",
       "  </thead>\n",
       "  <tbody>\n",
       "    <tr>\n",
       "      <th>0</th>\n",
       "      <td>2021-11-06</td>\n",
       "      <td>2021</td>\n",
       "      <td>1</td>\n",
       "      <td>Easy On Me</td>\n",
       "      <td>Adele</td>\n",
       "      <td>1.0</td>\n",
       "      <td>1</td>\n",
       "      <td>3</td>\n",
       "    </tr>\n",
       "    <tr>\n",
       "      <th>1</th>\n",
       "      <td>2021-11-06</td>\n",
       "      <td>2021</td>\n",
       "      <td>2</td>\n",
       "      <td>Stay</td>\n",
       "      <td>The Kid LAROI &amp; Justin Bieber</td>\n",
       "      <td>2.0</td>\n",
       "      <td>1</td>\n",
       "      <td>16</td>\n",
       "    </tr>\n",
       "    <tr>\n",
       "      <th>2</th>\n",
       "      <td>2021-11-06</td>\n",
       "      <td>2021</td>\n",
       "      <td>3</td>\n",
       "      <td>Industry Baby</td>\n",
       "      <td>Lil Nas X &amp; Jack Harlow</td>\n",
       "      <td>3.0</td>\n",
       "      <td>1</td>\n",
       "      <td>14</td>\n",
       "    </tr>\n",
       "    <tr>\n",
       "      <th>3</th>\n",
       "      <td>2021-11-06</td>\n",
       "      <td>2021</td>\n",
       "      <td>4</td>\n",
       "      <td>Fancy Like</td>\n",
       "      <td>Walker Hayes</td>\n",
       "      <td>4.0</td>\n",
       "      <td>3</td>\n",
       "      <td>19</td>\n",
       "    </tr>\n",
       "    <tr>\n",
       "      <th>4</th>\n",
       "      <td>2021-11-06</td>\n",
       "      <td>2021</td>\n",
       "      <td>5</td>\n",
       "      <td>Bad Habits</td>\n",
       "      <td>Ed Sheeran</td>\n",
       "      <td>5.0</td>\n",
       "      <td>2</td>\n",
       "      <td>18</td>\n",
       "    </tr>\n",
       "    <tr>\n",
       "      <th>...</th>\n",
       "      <td>...</td>\n",
       "      <td>...</td>\n",
       "      <td>...</td>\n",
       "      <td>...</td>\n",
       "      <td>...</td>\n",
       "      <td>...</td>\n",
       "      <td>...</td>\n",
       "      <td>...</td>\n",
       "    </tr>\n",
       "    <tr>\n",
       "      <th>330082</th>\n",
       "      <td>1958-08-04</td>\n",
       "      <td>1958</td>\n",
       "      <td>96</td>\n",
       "      <td>Over And Over</td>\n",
       "      <td>Thurston Harris</td>\n",
       "      <td>NaN</td>\n",
       "      <td>96</td>\n",
       "      <td>1</td>\n",
       "    </tr>\n",
       "    <tr>\n",
       "      <th>330083</th>\n",
       "      <td>1958-08-04</td>\n",
       "      <td>1958</td>\n",
       "      <td>97</td>\n",
       "      <td>I Believe In You</td>\n",
       "      <td>Robert &amp; Johnny</td>\n",
       "      <td>NaN</td>\n",
       "      <td>97</td>\n",
       "      <td>1</td>\n",
       "    </tr>\n",
       "    <tr>\n",
       "      <th>330084</th>\n",
       "      <td>1958-08-04</td>\n",
       "      <td>1958</td>\n",
       "      <td>98</td>\n",
       "      <td>Little Serenade</td>\n",
       "      <td>The Ames Brothers</td>\n",
       "      <td>NaN</td>\n",
       "      <td>98</td>\n",
       "      <td>1</td>\n",
       "    </tr>\n",
       "    <tr>\n",
       "      <th>330085</th>\n",
       "      <td>1958-08-04</td>\n",
       "      <td>1958</td>\n",
       "      <td>99</td>\n",
       "      <td>I'll Get By (As Long As I Have You)</td>\n",
       "      <td>Billy Williams</td>\n",
       "      <td>NaN</td>\n",
       "      <td>99</td>\n",
       "      <td>1</td>\n",
       "    </tr>\n",
       "    <tr>\n",
       "      <th>330086</th>\n",
       "      <td>1958-08-04</td>\n",
       "      <td>1958</td>\n",
       "      <td>100</td>\n",
       "      <td>Judy</td>\n",
       "      <td>Frankie Vaughan</td>\n",
       "      <td>NaN</td>\n",
       "      <td>100</td>\n",
       "      <td>1</td>\n",
       "    </tr>\n",
       "  </tbody>\n",
       "</table>\n",
       "<p>330087 rows × 8 columns</p>\n",
       "</div>"
      ],
      "text/plain": [
       "              date  year  rank                                 song  \\\n",
       "0       2021-11-06  2021     1                           Easy On Me   \n",
       "1       2021-11-06  2021     2                                 Stay   \n",
       "2       2021-11-06  2021     3                        Industry Baby   \n",
       "3       2021-11-06  2021     4                           Fancy Like   \n",
       "4       2021-11-06  2021     5                           Bad Habits   \n",
       "...            ...   ...   ...                                  ...   \n",
       "330082  1958-08-04  1958    96                        Over And Over   \n",
       "330083  1958-08-04  1958    97                     I Believe In You   \n",
       "330084  1958-08-04  1958    98                      Little Serenade   \n",
       "330085  1958-08-04  1958    99  I'll Get By (As Long As I Have You)   \n",
       "330086  1958-08-04  1958   100                                 Judy   \n",
       "\n",
       "                               artist  last-week  peak-rank  weeks-on-board  \n",
       "0                               Adele        1.0          1               3  \n",
       "1       The Kid LAROI & Justin Bieber        2.0          1              16  \n",
       "2             Lil Nas X & Jack Harlow        3.0          1              14  \n",
       "3                        Walker Hayes        4.0          3              19  \n",
       "4                          Ed Sheeran        5.0          2              18  \n",
       "...                               ...        ...        ...             ...  \n",
       "330082                Thurston Harris        NaN         96               1  \n",
       "330083                Robert & Johnny        NaN         97               1  \n",
       "330084              The Ames Brothers        NaN         98               1  \n",
       "330085                 Billy Williams        NaN         99               1  \n",
       "330086                Frankie Vaughan        NaN        100               1  \n",
       "\n",
       "[330087 rows x 8 columns]"
      ]
     },
     "execution_count": 37,
     "metadata": {},
     "output_type": "execute_result"
    }
   ],
   "source": [
    "df.insert(1, \"year\", [int(date[:4]) for date in df[\"date\"]])\n",
    "df"
   ]
  },
  {
   "cell_type": "markdown",
   "id": "8a1cabf7ec7b7dda",
   "metadata": {
    "collapsed": false
   },
   "source": [
    "If we don't need \"year\" column, then"
   ]
  },
  {
   "cell_type": "code",
   "execution_count": 38,
   "id": "7812e5b9fa6499d2",
   "metadata": {
    "ExecuteTime": {
     "end_time": "2023-11-26T05:36:09.619048Z",
     "start_time": "2023-11-26T05:36:09.601263Z"
    },
    "collapsed": false
   },
   "outputs": [
    {
     "data": {
      "text/html": [
       "<div>\n",
       "<style scoped>\n",
       "    .dataframe tbody tr th:only-of-type {\n",
       "        vertical-align: middle;\n",
       "    }\n",
       "\n",
       "    .dataframe tbody tr th {\n",
       "        vertical-align: top;\n",
       "    }\n",
       "\n",
       "    .dataframe thead th {\n",
       "        text-align: right;\n",
       "    }\n",
       "</style>\n",
       "<table border=\"1\" class=\"dataframe\">\n",
       "  <thead>\n",
       "    <tr style=\"text-align: right;\">\n",
       "      <th></th>\n",
       "      <th>date</th>\n",
       "      <th>rank</th>\n",
       "      <th>song</th>\n",
       "      <th>artist</th>\n",
       "      <th>last-week</th>\n",
       "      <th>peak-rank</th>\n",
       "      <th>weeks-on-board</th>\n",
       "    </tr>\n",
       "  </thead>\n",
       "  <tbody>\n",
       "    <tr>\n",
       "      <th>0</th>\n",
       "      <td>2021-11-06</td>\n",
       "      <td>1</td>\n",
       "      <td>Easy On Me</td>\n",
       "      <td>Adele</td>\n",
       "      <td>1.0</td>\n",
       "      <td>1</td>\n",
       "      <td>3</td>\n",
       "    </tr>\n",
       "    <tr>\n",
       "      <th>1</th>\n",
       "      <td>2021-11-06</td>\n",
       "      <td>2</td>\n",
       "      <td>Stay</td>\n",
       "      <td>The Kid LAROI &amp; Justin Bieber</td>\n",
       "      <td>2.0</td>\n",
       "      <td>1</td>\n",
       "      <td>16</td>\n",
       "    </tr>\n",
       "    <tr>\n",
       "      <th>2</th>\n",
       "      <td>2021-11-06</td>\n",
       "      <td>3</td>\n",
       "      <td>Industry Baby</td>\n",
       "      <td>Lil Nas X &amp; Jack Harlow</td>\n",
       "      <td>3.0</td>\n",
       "      <td>1</td>\n",
       "      <td>14</td>\n",
       "    </tr>\n",
       "    <tr>\n",
       "      <th>3</th>\n",
       "      <td>2021-11-06</td>\n",
       "      <td>4</td>\n",
       "      <td>Fancy Like</td>\n",
       "      <td>Walker Hayes</td>\n",
       "      <td>4.0</td>\n",
       "      <td>3</td>\n",
       "      <td>19</td>\n",
       "    </tr>\n",
       "    <tr>\n",
       "      <th>4</th>\n",
       "      <td>2021-11-06</td>\n",
       "      <td>5</td>\n",
       "      <td>Bad Habits</td>\n",
       "      <td>Ed Sheeran</td>\n",
       "      <td>5.0</td>\n",
       "      <td>2</td>\n",
       "      <td>18</td>\n",
       "    </tr>\n",
       "    <tr>\n",
       "      <th>...</th>\n",
       "      <td>...</td>\n",
       "      <td>...</td>\n",
       "      <td>...</td>\n",
       "      <td>...</td>\n",
       "      <td>...</td>\n",
       "      <td>...</td>\n",
       "      <td>...</td>\n",
       "    </tr>\n",
       "    <tr>\n",
       "      <th>330082</th>\n",
       "      <td>1958-08-04</td>\n",
       "      <td>96</td>\n",
       "      <td>Over And Over</td>\n",
       "      <td>Thurston Harris</td>\n",
       "      <td>NaN</td>\n",
       "      <td>96</td>\n",
       "      <td>1</td>\n",
       "    </tr>\n",
       "    <tr>\n",
       "      <th>330083</th>\n",
       "      <td>1958-08-04</td>\n",
       "      <td>97</td>\n",
       "      <td>I Believe In You</td>\n",
       "      <td>Robert &amp; Johnny</td>\n",
       "      <td>NaN</td>\n",
       "      <td>97</td>\n",
       "      <td>1</td>\n",
       "    </tr>\n",
       "    <tr>\n",
       "      <th>330084</th>\n",
       "      <td>1958-08-04</td>\n",
       "      <td>98</td>\n",
       "      <td>Little Serenade</td>\n",
       "      <td>The Ames Brothers</td>\n",
       "      <td>NaN</td>\n",
       "      <td>98</td>\n",
       "      <td>1</td>\n",
       "    </tr>\n",
       "    <tr>\n",
       "      <th>330085</th>\n",
       "      <td>1958-08-04</td>\n",
       "      <td>99</td>\n",
       "      <td>I'll Get By (As Long As I Have You)</td>\n",
       "      <td>Billy Williams</td>\n",
       "      <td>NaN</td>\n",
       "      <td>99</td>\n",
       "      <td>1</td>\n",
       "    </tr>\n",
       "    <tr>\n",
       "      <th>330086</th>\n",
       "      <td>1958-08-04</td>\n",
       "      <td>100</td>\n",
       "      <td>Judy</td>\n",
       "      <td>Frankie Vaughan</td>\n",
       "      <td>NaN</td>\n",
       "      <td>100</td>\n",
       "      <td>1</td>\n",
       "    </tr>\n",
       "  </tbody>\n",
       "</table>\n",
       "<p>330087 rows × 7 columns</p>\n",
       "</div>"
      ],
      "text/plain": [
       "              date  rank                                 song  \\\n",
       "0       2021-11-06     1                           Easy On Me   \n",
       "1       2021-11-06     2                                 Stay   \n",
       "2       2021-11-06     3                        Industry Baby   \n",
       "3       2021-11-06     4                           Fancy Like   \n",
       "4       2021-11-06     5                           Bad Habits   \n",
       "...            ...   ...                                  ...   \n",
       "330082  1958-08-04    96                        Over And Over   \n",
       "330083  1958-08-04    97                     I Believe In You   \n",
       "330084  1958-08-04    98                      Little Serenade   \n",
       "330085  1958-08-04    99  I'll Get By (As Long As I Have You)   \n",
       "330086  1958-08-04   100                                 Judy   \n",
       "\n",
       "                               artist  last-week  peak-rank  weeks-on-board  \n",
       "0                               Adele        1.0          1               3  \n",
       "1       The Kid LAROI & Justin Bieber        2.0          1              16  \n",
       "2             Lil Nas X & Jack Harlow        3.0          1              14  \n",
       "3                        Walker Hayes        4.0          3              19  \n",
       "4                          Ed Sheeran        5.0          2              18  \n",
       "...                               ...        ...        ...             ...  \n",
       "330082                Thurston Harris        NaN         96               1  \n",
       "330083                Robert & Johnny        NaN         97               1  \n",
       "330084              The Ames Brothers        NaN         98               1  \n",
       "330085                 Billy Williams        NaN         99               1  \n",
       "330086                Frankie Vaughan        NaN        100               1  \n",
       "\n",
       "[330087 rows x 7 columns]"
      ]
     },
     "execution_count": 38,
     "metadata": {},
     "output_type": "execute_result"
    }
   ],
   "source": [
    "df.drop(columns=\"year\")\n",
    "# df = df.drop(columns=\"year\")\n",
    "# df"
   ]
  },
  {
   "cell_type": "markdown",
   "id": "fdc53f381c332482",
   "metadata": {
    "collapsed": false
   },
   "source": [
    "If we think *Alan Walker* is not needed, then"
   ]
  },
  {
   "cell_type": "code",
   "execution_count": 39,
   "id": "a993a4dbcc1b850d",
   "metadata": {
    "ExecuteTime": {
     "end_time": "2023-11-26T05:36:09.652017Z",
     "start_time": "2023-11-26T05:36:09.629201Z"
    },
    "collapsed": false
   },
   "outputs": [
    {
     "data": {
      "text/html": [
       "<div>\n",
       "<style scoped>\n",
       "    .dataframe tbody tr th:only-of-type {\n",
       "        vertical-align: middle;\n",
       "    }\n",
       "\n",
       "    .dataframe tbody tr th {\n",
       "        vertical-align: top;\n",
       "    }\n",
       "\n",
       "    .dataframe thead th {\n",
       "        text-align: right;\n",
       "    }\n",
       "</style>\n",
       "<table border=\"1\" class=\"dataframe\">\n",
       "  <thead>\n",
       "    <tr style=\"text-align: right;\">\n",
       "      <th></th>\n",
       "      <th>date</th>\n",
       "      <th>year</th>\n",
       "      <th>rank</th>\n",
       "      <th>song</th>\n",
       "      <th>artist</th>\n",
       "      <th>last-week</th>\n",
       "      <th>peak-rank</th>\n",
       "      <th>weeks-on-board</th>\n",
       "    </tr>\n",
       "  </thead>\n",
       "  <tbody>\n",
       "    <tr>\n",
       "      <th>27999</th>\n",
       "      <td>2016-07-02</td>\n",
       "      <td>2016</td>\n",
       "      <td>100</td>\n",
       "      <td>Faded</td>\n",
       "      <td>Alan Walker</td>\n",
       "      <td>92.0</td>\n",
       "      <td>80</td>\n",
       "      <td>8</td>\n",
       "    </tr>\n",
       "    <tr>\n",
       "      <th>28091</th>\n",
       "      <td>2016-06-25</td>\n",
       "      <td>2016</td>\n",
       "      <td>92</td>\n",
       "      <td>Faded</td>\n",
       "      <td>Alan Walker</td>\n",
       "      <td>88.0</td>\n",
       "      <td>80</td>\n",
       "      <td>7</td>\n",
       "    </tr>\n",
       "    <tr>\n",
       "      <th>28187</th>\n",
       "      <td>2016-06-18</td>\n",
       "      <td>2016</td>\n",
       "      <td>88</td>\n",
       "      <td>Faded</td>\n",
       "      <td>Alan Walker</td>\n",
       "      <td>80.0</td>\n",
       "      <td>80</td>\n",
       "      <td>6</td>\n",
       "    </tr>\n",
       "    <tr>\n",
       "      <th>28279</th>\n",
       "      <td>2016-06-11</td>\n",
       "      <td>2016</td>\n",
       "      <td>80</td>\n",
       "      <td>Faded</td>\n",
       "      <td>Alan Walker</td>\n",
       "      <td>97.0</td>\n",
       "      <td>80</td>\n",
       "      <td>5</td>\n",
       "    </tr>\n",
       "    <tr>\n",
       "      <th>28396</th>\n",
       "      <td>2016-06-04</td>\n",
       "      <td>2016</td>\n",
       "      <td>97</td>\n",
       "      <td>Faded</td>\n",
       "      <td>Alan Walker</td>\n",
       "      <td>96.0</td>\n",
       "      <td>91</td>\n",
       "      <td>4</td>\n",
       "    </tr>\n",
       "    <tr>\n",
       "      <th>28495</th>\n",
       "      <td>2016-05-28</td>\n",
       "      <td>2016</td>\n",
       "      <td>96</td>\n",
       "      <td>Faded</td>\n",
       "      <td>Alan Walker</td>\n",
       "      <td>NaN</td>\n",
       "      <td>91</td>\n",
       "      <td>3</td>\n",
       "    </tr>\n",
       "    <tr>\n",
       "      <th>28793</th>\n",
       "      <td>2016-05-07</td>\n",
       "      <td>2016</td>\n",
       "      <td>94</td>\n",
       "      <td>Faded</td>\n",
       "      <td>Alan Walker</td>\n",
       "      <td>91.0</td>\n",
       "      <td>91</td>\n",
       "      <td>2</td>\n",
       "    </tr>\n",
       "    <tr>\n",
       "      <th>28890</th>\n",
       "      <td>2016-04-30</td>\n",
       "      <td>2016</td>\n",
       "      <td>91</td>\n",
       "      <td>Faded</td>\n",
       "      <td>Alan Walker</td>\n",
       "      <td>NaN</td>\n",
       "      <td>91</td>\n",
       "      <td>1</td>\n",
       "    </tr>\n",
       "  </tbody>\n",
       "</table>\n",
       "</div>"
      ],
      "text/plain": [
       "             date  year  rank   song       artist  last-week  peak-rank  \\\n",
       "27999  2016-07-02  2016   100  Faded  Alan Walker       92.0         80   \n",
       "28091  2016-06-25  2016    92  Faded  Alan Walker       88.0         80   \n",
       "28187  2016-06-18  2016    88  Faded  Alan Walker       80.0         80   \n",
       "28279  2016-06-11  2016    80  Faded  Alan Walker       97.0         80   \n",
       "28396  2016-06-04  2016    97  Faded  Alan Walker       96.0         91   \n",
       "28495  2016-05-28  2016    96  Faded  Alan Walker        NaN         91   \n",
       "28793  2016-05-07  2016    94  Faded  Alan Walker       91.0         91   \n",
       "28890  2016-04-30  2016    91  Faded  Alan Walker        NaN         91   \n",
       "\n",
       "       weeks-on-board  \n",
       "27999               8  \n",
       "28091               7  \n",
       "28187               6  \n",
       "28279               5  \n",
       "28396               4  \n",
       "28495               3  \n",
       "28793               2  \n",
       "28890               1  "
      ]
     },
     "execution_count": 39,
     "metadata": {},
     "output_type": "execute_result"
    }
   ],
   "source": [
    "df[df[\"artist\"]==\"Alan Walker\"]"
   ]
  },
  {
   "cell_type": "code",
   "execution_count": 40,
   "id": "a312c9449be9b18",
   "metadata": {
    "ExecuteTime": {
     "end_time": "2023-11-26T05:36:09.679097Z",
     "start_time": "2023-11-26T05:36:09.641283Z"
    },
    "collapsed": false
   },
   "outputs": [
    {
     "data": {
      "text/html": [
       "<div>\n",
       "<style scoped>\n",
       "    .dataframe tbody tr th:only-of-type {\n",
       "        vertical-align: middle;\n",
       "    }\n",
       "\n",
       "    .dataframe tbody tr th {\n",
       "        vertical-align: top;\n",
       "    }\n",
       "\n",
       "    .dataframe thead th {\n",
       "        text-align: right;\n",
       "    }\n",
       "</style>\n",
       "<table border=\"1\" class=\"dataframe\">\n",
       "  <thead>\n",
       "    <tr style=\"text-align: right;\">\n",
       "      <th></th>\n",
       "      <th>date</th>\n",
       "      <th>year</th>\n",
       "      <th>rank</th>\n",
       "      <th>song</th>\n",
       "      <th>artist</th>\n",
       "      <th>last-week</th>\n",
       "      <th>peak-rank</th>\n",
       "      <th>weeks-on-board</th>\n",
       "    </tr>\n",
       "  </thead>\n",
       "  <tbody>\n",
       "  </tbody>\n",
       "</table>\n",
       "</div>"
      ],
      "text/plain": [
       "Empty DataFrame\n",
       "Columns: [date, year, rank, song, artist, last-week, peak-rank, weeks-on-board]\n",
       "Index: []"
      ]
     },
     "execution_count": 40,
     "metadata": {},
     "output_type": "execute_result"
    }
   ],
   "source": [
    "df_noAW = df.drop(df[df[\"artist\"]==\"Alan Walker\"].index)\n",
    "df_noAW[df_noAW[\"artist\"]==\"Alan Walker\"]"
   ]
  },
  {
   "cell_type": "markdown",
   "id": "ac0d7f426697ab8",
   "metadata": {
    "collapsed": false
   },
   "source": [
    "## Data Exploration\n",
    "We can use `DataFrame` and `numpy` to do some basic exploration."
   ]
  },
  {
   "cell_type": "code",
   "execution_count": 41,
   "id": "6e02c362621aa2f8",
   "metadata": {
    "ExecuteTime": {
     "end_time": "2023-11-26T05:36:09.679419Z",
     "start_time": "2023-11-26T05:36:09.668662Z"
    },
    "collapsed": false
   },
   "outputs": [
    {
     "data": {
      "text/plain": [
       "(330087, 8)"
      ]
     },
     "execution_count": 41,
     "metadata": {},
     "output_type": "execute_result"
    }
   ],
   "source": [
    "df.shape"
   ]
  },
  {
   "cell_type": "code",
   "execution_count": 42,
   "id": "da266d2c1402866f",
   "metadata": {
    "ExecuteTime": {
     "end_time": "2023-11-26T05:36:09.734199Z",
     "start_time": "2023-11-26T05:36:09.672016Z"
    },
    "collapsed": false
   },
   "outputs": [
    {
     "data": {
      "text/html": [
       "<div>\n",
       "<style scoped>\n",
       "    .dataframe tbody tr th:only-of-type {\n",
       "        vertical-align: middle;\n",
       "    }\n",
       "\n",
       "    .dataframe tbody tr th {\n",
       "        vertical-align: top;\n",
       "    }\n",
       "\n",
       "    .dataframe thead th {\n",
       "        text-align: right;\n",
       "    }\n",
       "</style>\n",
       "<table border=\"1\" class=\"dataframe\">\n",
       "  <thead>\n",
       "    <tr style=\"text-align: right;\">\n",
       "      <th></th>\n",
       "      <th>year</th>\n",
       "      <th>rank</th>\n",
       "      <th>last-week</th>\n",
       "      <th>peak-rank</th>\n",
       "      <th>weeks-on-board</th>\n",
       "    </tr>\n",
       "  </thead>\n",
       "  <tbody>\n",
       "    <tr>\n",
       "      <th>count</th>\n",
       "      <td>330087.000000</td>\n",
       "      <td>330087.000000</td>\n",
       "      <td>297775.000000</td>\n",
       "      <td>330087.000000</td>\n",
       "      <td>330087.000000</td>\n",
       "    </tr>\n",
       "    <tr>\n",
       "      <th>mean</th>\n",
       "      <td>1989.725142</td>\n",
       "      <td>50.500929</td>\n",
       "      <td>47.591631</td>\n",
       "      <td>40.970629</td>\n",
       "      <td>9.161785</td>\n",
       "    </tr>\n",
       "    <tr>\n",
       "      <th>std</th>\n",
       "      <td>18.266426</td>\n",
       "      <td>28.866094</td>\n",
       "      <td>28.054360</td>\n",
       "      <td>29.347481</td>\n",
       "      <td>7.618264</td>\n",
       "    </tr>\n",
       "    <tr>\n",
       "      <th>min</th>\n",
       "      <td>1958.000000</td>\n",
       "      <td>1.000000</td>\n",
       "      <td>1.000000</td>\n",
       "      <td>1.000000</td>\n",
       "      <td>1.000000</td>\n",
       "    </tr>\n",
       "    <tr>\n",
       "      <th>25%</th>\n",
       "      <td>1974.000000</td>\n",
       "      <td>26.000000</td>\n",
       "      <td>23.000000</td>\n",
       "      <td>13.000000</td>\n",
       "      <td>4.000000</td>\n",
       "    </tr>\n",
       "    <tr>\n",
       "      <th>50%</th>\n",
       "      <td>1990.000000</td>\n",
       "      <td>51.000000</td>\n",
       "      <td>47.000000</td>\n",
       "      <td>38.000000</td>\n",
       "      <td>7.000000</td>\n",
       "    </tr>\n",
       "    <tr>\n",
       "      <th>75%</th>\n",
       "      <td>2006.000000</td>\n",
       "      <td>76.000000</td>\n",
       "      <td>72.000000</td>\n",
       "      <td>65.000000</td>\n",
       "      <td>13.000000</td>\n",
       "    </tr>\n",
       "    <tr>\n",
       "      <th>max</th>\n",
       "      <td>2021.000000</td>\n",
       "      <td>100.000000</td>\n",
       "      <td>100.000000</td>\n",
       "      <td>100.000000</td>\n",
       "      <td>90.000000</td>\n",
       "    </tr>\n",
       "  </tbody>\n",
       "</table>\n",
       "</div>"
      ],
      "text/plain": [
       "                year           rank      last-week      peak-rank  \\\n",
       "count  330087.000000  330087.000000  297775.000000  330087.000000   \n",
       "mean     1989.725142      50.500929      47.591631      40.970629   \n",
       "std        18.266426      28.866094      28.054360      29.347481   \n",
       "min      1958.000000       1.000000       1.000000       1.000000   \n",
       "25%      1974.000000      26.000000      23.000000      13.000000   \n",
       "50%      1990.000000      51.000000      47.000000      38.000000   \n",
       "75%      2006.000000      76.000000      72.000000      65.000000   \n",
       "max      2021.000000     100.000000     100.000000     100.000000   \n",
       "\n",
       "       weeks-on-board  \n",
       "count   330087.000000  \n",
       "mean         9.161785  \n",
       "std          7.618264  \n",
       "min          1.000000  \n",
       "25%          4.000000  \n",
       "50%          7.000000  \n",
       "75%         13.000000  \n",
       "max         90.000000  "
      ]
     },
     "execution_count": 42,
     "metadata": {},
     "output_type": "execute_result"
    }
   ],
   "source": [
    "df.describe()"
   ]
  },
  {
   "cell_type": "code",
   "execution_count": 43,
   "id": "736d6f71e8ad2a38",
   "metadata": {
    "ExecuteTime": {
     "end_time": "2023-11-26T05:36:09.735087Z",
     "start_time": "2023-11-26T05:36:09.714268Z"
    },
    "collapsed": false
   },
   "outputs": [
    {
     "data": {
      "text/plain": [
       "date               object\n",
       "year                int64\n",
       "rank                int64\n",
       "song               object\n",
       "artist             object\n",
       "last-week         float64\n",
       "peak-rank           int64\n",
       "weeks-on-board      int64\n",
       "dtype: object"
      ]
     },
     "execution_count": 43,
     "metadata": {},
     "output_type": "execute_result"
    }
   ],
   "source": [
    "df.dtypes"
   ]
  },
  {
   "cell_type": "markdown",
   "id": "d555e476a2b543a1",
   "metadata": {
    "collapsed": false
   },
   "source": [
    "Here are some additional methods that can give you statistics of a DataFrame or particular column in a DataFrame.\n",
    "- `.mean(axis=0 [will give you the calculated value per column])` - returns the statistical mean \n",
    "- `.median(axis=0 [will give you the calculated value per column])` - returns the statistical median \n",
    "- `.mode(axis=0 [will give you the calculated value per column])` - returns the statistical mode\n",
    "- `.count()` - gives number of total values in column\n",
    "- `.unique()` - returns array of all unique values in that column\n",
    "- `.value_counts()` - returns object containing counts of unique values"
   ]
  },
  {
   "cell_type": "code",
   "execution_count": 44,
   "id": "51c5235644fa626",
   "metadata": {
    "ExecuteTime": {
     "end_time": "2023-11-26T05:36:09.764113Z",
     "start_time": "2023-11-26T05:36:09.720929Z"
    },
    "collapsed": false
   },
   "outputs": [
    {
     "data": {
      "text/plain": [
       "array(['Adele', 'The Kid LAROI & Justin Bieber',\n",
       "       'Lil Nas X & Jack Harlow', ..., \"The Daddy-O's\", 'Thurston Harris',\n",
       "       'Frankie Vaughan'], dtype=object)"
      ]
     },
     "execution_count": 44,
     "metadata": {},
     "output_type": "execute_result"
    }
   ],
   "source": [
    "df.artist.unique()"
   ]
  },
  {
   "cell_type": "markdown",
   "id": "ae05bc1426da0c6d",
   "metadata": {
    "collapsed": false
   },
   "source": [
    "We notice that there are some collaborations, for *Taylor Swift*,"
   ]
  },
  {
   "cell_type": "code",
   "execution_count": 45,
   "id": "f4f08e31ffcb3fa7",
   "metadata": {
    "ExecuteTime": {
     "end_time": "2023-11-26T05:36:09.781085Z",
     "start_time": "2023-11-26T05:36:09.754520Z"
    },
    "collapsed": false
   },
   "outputs": [
    {
     "name": "stdout",
     "output_type": "stream",
     "text": [
      "['Big Red Machine Featuring Taylor Swift', 'Zayn / Taylor Swift', 'Tim McGraw With Taylor Swift', 'Taylor Swift Featuring Colbie Caillat', 'Taylor Swift Featuring Maren Morris', 'Sugarland Featuring Taylor Swift', 'B.o.B Featuring Taylor Swift', 'Taylor Swift Featuring Kendrick Lamar', 'Taylor Swift', 'Taylor Swift Featuring HAIM', 'Taylor Swift Featuring Dixie Chicks', 'Taylor Swift Featuring Ed Sheeran', 'Taylor Swift Featuring Bon Iver', 'Taylor Swift Featuring The National', 'Taylor Swift Featuring Ed Sheeran & Future', 'Taylor Swift Featuring The Civil Wars', 'Boys Like Girls Featuring Taylor Swift', 'Taylor Swift Featuring Brendon Urie']\n"
     ]
    }
   ],
   "source": [
    "TS = []\n",
    "for artist in df[\"artist\"]:\n",
    "    if \"Taylor Swift\" in artist:\n",
    "        TS.append(artist)\n",
    "print(list(set(TS)))"
   ]
  },
  {
   "cell_type": "markdown",
   "id": "b84139a496105f86",
   "metadata": {
    "collapsed": false
   },
   "source": [
    "## Visualization\n",
    "Using `Matplotlib` we can easily get some visuals.\n",
    "\n",
    "Details are in *Keyuan*'s Part.\n"
   ]
  },
  {
   "cell_type": "markdown",
   "id": "dc196853ddff9688",
   "metadata": {
    "collapsed": false
   },
   "source": [
    "# Useful Links\n",
    "- [Python for Data Analysis, 3E -Wes McKinney](https://wesmckinney.com/book/)\n",
    "- [Python Pandas](https://pandas.pydata.org/)\n",
    "- [Python Matplotlib](https://matplotlib.org/)"
   ]
  }
 ],
 "metadata": {
  "kernelspec": {
   "display_name": "Python 3 (ipykernel)",
   "language": "python",
   "name": "python3"
  },
  "language_info": {
   "codemirror_mode": {
    "name": "ipython",
    "version": 3
   },
   "file_extension": ".py",
   "mimetype": "text/x-python",
   "name": "python",
   "nbconvert_exporter": "python",
   "pygments_lexer": "ipython3",
   "version": "3.10.7"
  }
 },
 "nbformat": 4,
 "nbformat_minor": 5
}
