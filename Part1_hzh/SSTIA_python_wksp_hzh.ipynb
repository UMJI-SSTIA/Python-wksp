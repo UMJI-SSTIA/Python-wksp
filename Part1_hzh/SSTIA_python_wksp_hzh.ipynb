{
 "cells": [
  {
   "cell_type": "markdown",
   "metadata": {},
   "source": [
    "# SSTIA python workshop I"
   ]
  },
  {
   "cell_type": "code",
   "execution_count": null,
   "metadata": {},
   "outputs": [],
   "source": [
    "print(\"Hello World!\")"
   ]
  },
  {
   "cell_type": "markdown",
   "metadata": {},
   "source": [
    "## Python Hands-on Tutorial\n",
    "\n",
    "### Online Courses\n",
    "\n",
    "- CS61A: Structure and Interpretation of Computer Programs (UCB)\n",
    "  - 课程网站：https://inst.eecs.berkeley.edu/~cs61a/su20/\n",
    "  - 课程视频: 参见课程网站链接\n",
    "  - 课程教材：https://www.composingprograms.com/\n",
    "  - 课程教材中文翻译：https://composingprograms.netlify.app/\n",
    "- CS50P Introduction to Programming with Python\n",
    "  - 课程网站：[2022](https://cs50.harvard.edu/python/2022/)\n",
    "  - 课程视频：[2022](https://www.bilibili.com/video/BV1z5411X7wX)\n",
    "\n",
    "### Books\n",
    "\n",
    "- [Python Book Guide and List](https://pythonbooks.org/): Python语言相关的编程书籍推荐列表\n",
    "\n",
    "### Tutorials\n",
    "\n",
    "- Python Official Tutorials\n",
    "  - [The Python Tutorial — Python 3.12.0 documentation](https://docs.python.org/3/tutorial/)\n",
    "\n",
    "- GeeksforGeeks: Python Tutorials\n",
    "  - [Python Tutorial | Learn Python Programming (geeksforgeeks.org)](https://www.geeksforgeeks.org/python-programming-language/?ref=gcse)"
   ]
  },
  {
   "cell_type": "markdown",
   "metadata": {},
   "source": [
    "## Basic Syntax\n",
    "\n",
    "### Data Type\n",
    "\n",
    "#### Overview\n",
    "\n",
    "Python has several built-in data types. Here are some of them:\n",
    "\n",
    "- **Text Type**: `str`\n",
    "- **Numeric Types**: `int`, `float`, `complex`\n",
    "- **Sequence Types**: `list`, `tuple`, `range`\n",
    "- **Mapping Type**: `dict`\n",
    "- **Set Types**: `set`\n",
    "- **Boolean Type**: `bool`\n",
    "- **None Type**: `NoneType`\n",
    "\n",
    "You can get the data type of any object by using the `type()` function. For example, to get the data type of the variable `x`, you can use `type(x)`. If you want to specify the data type, you can use the following constructor functions: `str()`, `int()`, `float()`, `complex()`, `list()`, `tuple()`, `range()`, `dict()`, `set()`, `frozenset()`, `bool()`, `bytes()`, `bytearray()`, `memoryview()`."
   ]
  },
  {
   "cell_type": "markdown",
   "metadata": {},
   "source": [
    "### Text Type `str`\n",
    "\n",
    "### Mapping Type: `dict`\n",
    "\n",
    "### Sequential Type: `tuple`\n",
    "\n",
    "In Python, the `tuple` type is a built-in data type used to represent an ordered and immutable collection of elements. Tuples are defined by enclosing comma-separated values within parentheses `()`. Once a tuple is created, its elements cannot be modified, added, or removed.\n",
    "\n",
    "#### Creating a Tuple:\n",
    "\n",
    "You can create a tuple by enclosing elements in parentheses. Here are a few examples:"
   ]
  },
  {
   "cell_type": "code",
   "execution_count": null,
   "metadata": {},
   "outputs": [],
   "source": [
    "# Creating a tuple with integers\n",
    "my_tuple = (1, 2, 3)\n",
    "print(my_tuple)"
   ]
  },
  {
   "cell_type": "code",
   "execution_count": null,
   "metadata": {},
   "outputs": [],
   "source": [
    "# Creating a tuple with mixed data types\n",
    "mixed_tuple = (\"apple\", 42, True, 3.14)\n",
    "print(mixed_tuple)"
   ]
  },
  {
   "cell_type": "code",
   "execution_count": null,
   "metadata": {},
   "outputs": [],
   "source": [
    "# Creating an empty tuple\n",
    "empty_tuple = ()\n",
    "print(empty_tuple)"
   ]
  },
  {
   "cell_type": "code",
   "execution_count": null,
   "metadata": {},
   "outputs": [],
   "source": [
    "# Creating a tuple with a single element (note the trailing comma)\n",
    "single_element_tuple = (42,)\n",
    "print(single_element_tuple)"
   ]
  },
  {
   "cell_type": "markdown",
   "metadata": {},
   "source": [
    "#### Accessing Elements in a Tuple:\n",
    "\n",
    "You can access elements in a tuple using indexing, similar to lists. The index starts from 0 for the first element."
   ]
  },
  {
   "cell_type": "code",
   "execution_count": null,
   "metadata": {},
   "outputs": [],
   "source": [
    "my_tuple = (1, 2, 3, 4, 5)\n",
    "\n",
    "# Accessing the first element\n",
    "first_element = my_tuple[0]\n",
    "print(\"First Element:\", first_element)\n",
    "\n",
    "# Accessing the third element\n",
    "third_element = my_tuple[2]\n",
    "print(\"Third Element:\", third_element)"
   ]
  },
  {
   "cell_type": "markdown",
   "metadata": {},
   "source": [
    "#### Tuple Unpacking:\n",
    "\n",
    "Tuple unpacking allows you to assign the elements of a tuple to individual variables."
   ]
  },
  {
   "cell_type": "code",
   "execution_count": null,
   "metadata": {},
   "outputs": [],
   "source": [
    "coordinates = (5, 10)\n",
    "x, y = coordinates\n",
    "\n",
    "print(\"x:\", x)\n",
    "print(\"y:\", y)"
   ]
  },
  {
   "cell_type": "code",
   "execution_count": null,
   "metadata": {},
   "outputs": [],
   "source": [
    "# Common use: Unpack tuple from the return values of function. \n",
    "# Example:\n",
    "\n",
    "def operate(a, b):\n",
    "    add = a + b\n",
    "    sub = a - b\n",
    "    return (add, sub)\n",
    "\n",
    "x = 10\n",
    "y = 5\n",
    "add_result, sub_result = operate(x, y)\n",
    "print(\"x:\", x)\n",
    "print(\"y:\", y)"
   ]
  },
  {
   "cell_type": "markdown",
   "metadata": {},
   "source": [
    "#### Immutability:\n",
    "\n",
    "One key characteristic of tuples is their immutability. Once a tuple is created, you cannot change its elements. This makes tuples suitable for situations where the order and immutability of elements are important."
   ]
  },
  {
   "cell_type": "markdown",
   "metadata": {},
   "source": [
    "#### Arithmetic Operators\n",
    "\n",
    "| Operator |                         Description                          | Syntax |\n",
    "| :------: | :----------------------------------------------------------: | :----: |\n",
    "|    +     |                 Addition: adds two operands                  | x + y  |\n",
    "|    –     |             Subtraction: subtracts two operands              | x – y  |\n",
    "|    *     |           Multiplication: multiplies two operands            | x * y  |\n",
    "|    /     |  Division (float): divides the first operand by the second   | x / y  |\n",
    "|    //    |  Division (floor): divides the first operand by the second   | x // y |\n",
    "|    %     | Modulus: returns the remainder when the first operand is divided by the second | x % y  |\n",
    "|    **    |         Power: Returns first raised to power second          | x ** y |\n",
    "\n",
    "Here is an example showing how different Arithmetic Operators in Python work:"
   ]
  },
  {
   "cell_type": "code",
   "execution_count": null,
   "metadata": {},
   "outputs": [],
   "source": [
    "# Examples of Arithmetic Operator\n",
    "a = 9\n",
    "b = 4\n",
    "\n",
    "# Addition of numbers\n",
    "add = a + b\n",
    "\n",
    "# Subtraction of numbers\n",
    "sub = a - b\n",
    "\n",
    "# Multiplication of number\n",
    "mul = a * b\n",
    "\n",
    "# Modulo of both number\n",
    "mod = a % b\n",
    "\n",
    "# Power\n",
    "p = a ** b\n",
    "\n",
    "# print results\n",
    "print(add)\n",
    "print(sub)\n",
    "print(mul)\n",
    "print(mod)\n",
    "print(p)"
   ]
  },
  {
   "cell_type": "markdown",
   "metadata": {},
   "source": [
    "#### Comparison Operators\n",
    "\n",
    "| Operator |                         Description                          | Syntax |\n",
    "| :------: | :----------------------------------------------------------: | :----: |\n",
    "|    >     | Greater than: True if the left operand is greater than the right | x > y  |\n",
    "|    <     |  Less than: True if the left operand is less than the right  | x < y  |\n",
    "|    ==    |          Equal to: True if both operands are equal           | x == y |\n",
    "|    !=    |        Not equal to – True if operands are not equal         | x != y |\n",
    "|    >=    | Greater than or equal to True if the left operand is greater than or equal to the right | x >= y |\n",
    "|    <=    | Less than or equal to True if the left operand is less than or equal to the right | x <= y |\n",
    "\n",
    "Let’s see an example of Comparison Operators in Python."
   ]
  },
  {
   "cell_type": "code",
   "execution_count": null,
   "metadata": {},
   "outputs": [],
   "source": [
    "# Examples of Relational Operators\n",
    "a = 13\n",
    "b = 33\n",
    "\n",
    "# a > b is False\n",
    "print(a > b)\n",
    "\n",
    "# a < b is True\n",
    "print(a < b)\n",
    "\n",
    "# a == b is False\n",
    "print(a == b)\n",
    "\n",
    "# a != b is True\n",
    "print(a != b)\n",
    "\n",
    "# a >= b is False\n",
    "print(a >= b)\n",
    "\n",
    "# a <= b is True\n",
    "print(a <= b)"
   ]
  },
  {
   "cell_type": "markdown",
   "metadata": {},
   "source": [
    "#### Logical Operators\n",
    "\n",
    "| Operator |                    Description                     | Syntax  |\n",
    "| :------: | :------------------------------------------------: | :-----: |\n",
    "|   and    |  Logical AND: True if both the operands are true   | x and y |\n",
    "|    or    | Logical OR: True if either of the operands is true | x or y  |\n",
    "|   not    |     Logical NOT: True if the operand is false      |  not x  |\n",
    "\n",
    "![](humor.jpeg)\n",
    "\n",
    "The following code shows how to implement Logical Operators in Python:"
   ]
  },
  {
   "cell_type": "code",
   "execution_count": null,
   "metadata": {},
   "outputs": [],
   "source": [
    "# Examples of Logical Operator\n",
    "a = True\n",
    "b = False\n",
    "\n",
    "# Print a and b is False\n",
    "print(a and b)\n",
    "\n",
    "# Print a or b is True\n",
    "print(a or b)\n",
    "\n",
    "# Print not a is False\n",
    "print(not a)"
   ]
  },
  {
   "cell_type": "markdown",
   "metadata": {},
   "source": [
    "#### Basic Input and Output:\n",
    "\n",
    "##### Input:\n",
    "\n",
    "The `input()` function is used to take user input. It reads a line from the user and returns it as a string. You can convert the input to other data types as needed."
   ]
  },
  {
   "cell_type": "code",
   "execution_count": null,
   "metadata": {},
   "outputs": [],
   "source": [
    "# Basic Input Example\n",
    "user_input = input(\"Enter something: \")\n",
    "print(\"You entered:\", user_input)"
   ]
  },
  {
   "cell_type": "markdown",
   "metadata": {},
   "source": [
    "##### Take multiple input:\n",
    "**Using** [**split()**](https://www.geeksforgeeks.org/python-string-split/) **method :**"
   ]
  },
  {
   "cell_type": "markdown",
   "metadata": {},
   "source": [
    "##### Output:\n",
    "\n",
    "The `print()` function is used to display output to the console. You can pass multiple values separated by commas to `print()`."
   ]
  },
  {
   "cell_type": "code",
   "execution_count": null,
   "metadata": {},
   "outputs": [],
   "source": [
    "# Basic Output Example\n",
    "name = \"John\"\n",
    "age = 25\n",
    "print(\"Name:\", name, \"Age:\", age)"
   ]
  },
  {
   "cell_type": "markdown",
   "metadata": {},
   "source": [
    "#### File I/O:\n",
    "\n",
    "Python provides built-in functions for working with files: `open()`, `read()`, `write()`, and `close()`. Here's a simple example:"
   ]
  },
  {
   "cell_type": "code",
   "execution_count": null,
   "metadata": {},
   "outputs": [],
   "source": [
    "# File I/O Example\n",
    "# Writing to a file\n",
    "with open(\"example.txt\", \"w\") as file:\n",
    "    file.write(\"Hello, this is a sample text.\")\n",
    "\n",
    "# Reading from a file\n",
    "with open(\"example.txt\", \"r\") as file:\n",
    "    content = file.read()\n",
    "    print(\"File Content:\", content)"
   ]
  },
  {
   "cell_type": "markdown",
   "metadata": {},
   "source": [
    "In the above example, the `with` statement is used to automatically close the file when the block is exited."
   ]
  },
  {
   "cell_type": "markdown",
   "metadata": {},
   "source": [
    "### Control Flow\n",
    "Quite similar to C and C++.\n",
    "\n",
    "#### Python If Else\n",
    "\n",
    "**Syntax**: \n",
    "\n",
    "```python\n",
    "if (condition):\n",
    "<Tab>statement\n",
    "elif (condition):\n",
    "<Tab>statement\n",
    ".\n",
    ".\n",
    "else:\n",
    "<Tab>statement\n",
    "```\n",
    "\n",
    "Example:"
   ]
  },
  {
   "cell_type": "code",
   "execution_count": null,
   "metadata": {},
   "outputs": [],
   "source": [
    "# Python program to illustrate if-elif-else ladder\n",
    "\n",
    "i = 20\n",
    "if (i == 10):\n",
    "\tprint(\"i is 10\")\n",
    "elif (i == 15):\n",
    "\tprint(\"i is 15\")\n",
    "elif (i == 20):\n",
    "\tprint(\"i is 20\")\n",
    "else:\n",
    "\tprint(\"i is not present\")"
   ]
  },
  {
   "cell_type": "markdown",
   "metadata": {},
   "source": [
    "#### Python For Loops\n",
    "\n",
    "For Loops Syntax\n",
    "```python\n",
    "for var in iterable:\n",
    "    # statements\n",
    "```\n",
    "\n",
    "**iteration:**\n",
    "- list\n",
    "- dict\n",
    "- string\n",
    "- ..."
   ]
  },
  {
   "cell_type": "code",
   "execution_count": null,
   "metadata": {},
   "outputs": [],
   "source": [
    "for i in range(10):\n",
    "    print(i)"
   ]
  },
  {
   "cell_type": "code",
   "execution_count": null,
   "metadata": {},
   "outputs": [],
   "source": [
    "# zip example:\n",
    "fruits = [\"apple\", \"banana\", \"cherry\"]\n",
    "colors = [\"red\", \"yellow\", \"green\"]\n",
    "for fruit, color in zip(fruits, colors):\n",
    "\tprint(fruit, \"is\", color)"
   ]
  },
  {
   "cell_type": "markdown",
   "metadata": {},
   "source": [
    "#### Python While Loop\n",
    "\n",
    "**Syntax:** \n",
    "\n",
    "```python\n",
    "while expression:\n",
    "    statement(s)\n",
    "```"
   ]
  },
  {
   "cell_type": "markdown",
   "metadata": {},
   "source": [
    "### Functions\n",
    "\n",
    "#### Types of Functions in Python\n",
    "\n",
    "- **Built-in library function:** These are [Standard functions](https://www.geeksforgeeks.org/python-built-in-functions/) in Python that are available to use.\n",
    "- **User-defined function:** We can create our own functions based on our requirements.\n",
    "\n",
    "#### Creating a Function in Python\n",
    "\n",
    "- syntax1:\n",
    "\n",
    "```python\n",
    "def function_name(parameter):\n",
    "    # body of the function\n",
    "    return expression\n",
    "```\n",
    "- syntax2:\n",
    "```python\n",
    "def function_name(parameter: data_type) -> return_type:\n",
    "    \"\"\"Docstring\"\"\"\n",
    "    # body of the function\n",
    "    return expression\n",
    "```"
   ]
  },
  {
   "cell_type": "code",
   "execution_count": null,
   "metadata": {},
   "outputs": [],
   "source": [
    "def add1(num1, num2):\n",
    "\tnum3 = num1 + num2\n",
    "\treturn num3\n",
    "\n",
    "def add2(num1: int, num2: int) -> int:\n",
    "\t\"\"\"Add two numbers\"\"\"\n",
    "\tnum3 = num1 + num2\n",
    "\n",
    "\treturn num3\n",
    "\n",
    "# Driver code\n",
    "num1, num2 = 5, 15\n",
    "ans1 = add1(num1, num2)\n",
    "ans2 = add2(num1, num2)\n",
    "print(f\"Function1: The addition of {num1} and {num2} results {ans1}.\")\n",
    "print(f\"Function2: The addition of {num1} and {num2} results {ans2}.\")"
   ]
  },
  {
   "cell_type": "markdown",
   "metadata": {},
   "source": [
    "#### Pass by Reference and Pass by Value\n",
    "\n",
    "![](https://www.mathwarehouse.com/programming/images/pass-by-reference-vs-pass-by-value-animation.gif)\n",
    "\n",
    "\n",
    "#### Python's Pass by Object Reference\n",
    "One important thing to note is, in Python every variable name is a reference. When we pass a variable to a function, a new reference to the object is created. Parameter passing in Python is the same as reference passing in C++."
   ]
  },
  {
   "cell_type": "code",
   "execution_count": null,
   "metadata": {},
   "outputs": [],
   "source": [
    "# Here x is a new reference to same list object lst\n",
    "def myFun(x):\n",
    "\tprint(f'Variable x is located at address {id(x)}')\n",
    "\tx[0] = 20\n",
    "\tprint(f'Variable x is located at address {id(x)}')\n",
    "\n",
    "\n",
    "# Driver Code (Note that lst is modified\n",
    "# after function call.\n",
    "lst = [10, 11, 12, 13, 14, 15]\n",
    "print(f'Variable lst is located at address {id(lst)}')\n",
    "myFun(lst)\n",
    "print(f'Variable lst is located at address {id(lst)}')\n",
    "print(lst)"
   ]
  },
  {
   "cell_type": "markdown",
   "metadata": {},
   "source": [
    "**The lst and x are located at the same address in memory.**"
   ]
  },
  {
   "cell_type": "markdown",
   "metadata": {},
   "source": [
    "![](sample1.jpg)"
   ]
  },
  {
   "cell_type": "markdown",
   "metadata": {},
   "source": [
    "**When we pass a object reference and change the received reference to something else, the connection between the passed and received parameter is broken. For example, consider the below program as follows:**"
   ]
  },
  {
   "cell_type": "code",
   "execution_count": null,
   "metadata": {},
   "outputs": [],
   "source": [
    "def myFun(x):\n",
    "\n",
    "\t# After below line link of x with previous\n",
    "\t# object gets broken. A new object is assigned\n",
    "\t# to x.\n",
    "\tprint(f'Variable x is located at address {id(x)}')\n",
    "\tx = [20, 30, 40]\n",
    "\tprint(f'Variable x is located at address {id(x)}')\n",
    "\n",
    "\n",
    "# Driver Code (Note that lst is not modified\n",
    "# after function call.\n",
    "lst = [10, 11, 12, 13, 14, 15]\n",
    "print(f'Variable lst is located at address {id(lst)}')\n",
    "myFun(lst)\n",
    "print(f'Variable lst is located at address {id(lst)}')\n",
    "print(lst)"
   ]
  },
  {
   "cell_type": "markdown",
   "metadata": {},
   "source": [
    "**After x changes its reference object, its address in memory changes.**"
   ]
  },
  {
   "cell_type": "markdown",
   "metadata": {},
   "source": [
    "![](sample2.jpg)"
   ]
  },
  {
   "cell_type": "markdown",
   "metadata": {},
   "source": [
    "Another example demonstrates that the reference link is broken if we assign a new value (inside the function)."
   ]
  },
  {
   "cell_type": "code",
   "execution_count": null,
   "metadata": {},
   "outputs": [],
   "source": [
    "def myFun(x):\n",
    "\n",
    "\t# After below line link of x with previous\n",
    "\t# object gets broken. A new object is assigned\n",
    "\t# to x.\n",
    "\tprint(f'Variable x is located at address {id(x)}')\n",
    "\tx = 20\n",
    "\tprint(f'Variable x is located at address {id(x)}')\n",
    "\n",
    "\n",
    "# Driver Code (Note that x is not modified\n",
    "# after function call.\n",
    "x = 10\n",
    "print(f'Variable x is located at address {id(x)}')\n",
    "myFun(x)\n",
    "print(f'Variable x is located at address {id(x)}')\n",
    "print(x)"
   ]
  },
  {
   "cell_type": "markdown",
   "metadata": {},
   "source": [
    "#### Exercise\n",
    "- Try to guess the output of the following code. "
   ]
  },
  {
   "cell_type": "code",
   "execution_count": null,
   "metadata": {},
   "outputs": [],
   "source": [
    "def swap(x, y):\n",
    "\ttemp = x\n",
    "\tx = y\n",
    "\ty = temp\n",
    "\n",
    "\n",
    "# Driver code\n",
    "x = 2\n",
    "y = 3\n",
    "swap(x, y)\n",
    "print(x)\n",
    "print(y)"
   ]
  },
  {
   "cell_type": "markdown",
   "metadata": {},
   "source": [
    "### Import Module\n",
    "\n",
    "2 types of modules:\n",
    "\n",
    "- Built-in Modules\n",
    "- Self-written Modules\n",
    "\n",
    "#### Module && Header files\n",
    "\n",
    "在Python中的`import`语句和C语言中的头文件（header file）有一些相似之处\n",
    "\n",
    "##### Python中的`import`语句：\n",
    "\n",
    "在Python中，`import`语句用于引入模块，以便在代码中使用模块中定义的函数、类等。一个Python模块通常对应于一个文件，文件名即为模块名，包含了一些可复用的代码。\n",
    "\n",
    "**例子：**\n",
    "\n",
    "假设有一个名为`math_operations.py`的Python文件，其中包含了一些数学操作的函数："
   ]
  },
  {
   "cell_type": "code",
   "execution_count": null,
   "metadata": {},
   "outputs": [],
   "source": [
    "# math_operations.py\n",
    "def add(x, y):\n",
    "    return x + y\n",
    "\n",
    "def subtract(x, y):\n",
    "    return x - y"
   ]
  },
  {
   "cell_type": "markdown",
   "metadata": {},
   "source": [
    "然后在另一个文件中，你可以使用`import`语句引入这个模块并调用其中的函数："
   ]
  },
  {
   "cell_type": "code",
   "execution_count": null,
   "metadata": {},
   "outputs": [],
   "source": [
    "# main.py\n",
    "import math_operations\n",
    "\n",
    "result_add = math_operations.add(5, 3)\n",
    "result_subtract = math_operations.subtract(8, 2)\n",
    "\n",
    "print(result_add)       \n",
    "print(result_subtract)  "
   ]
  },
  {
   "cell_type": "markdown",
   "metadata": {},
   "source": [
    "#### Built-in Library\n",
    "\n",
    "##### Python Example - Using the `math` Module:\n",
    "\n",
    "Python has a built-in `math` module that provides mathematical functions. Here's an example:"
   ]
  },
  {
   "cell_type": "code",
   "execution_count": null,
   "metadata": {},
   "outputs": [],
   "source": [
    "# Python Example - Using the math module\n",
    "import math\n",
    "\n",
    "# Calculate the square root of 25\n",
    "sqrt_result = math.sqrt(25)\n",
    "\n",
    "# Calculate the cosine of 45 degrees\n",
    "cos_result = math.cos(math.radians(45))\n",
    "\n",
    "print(\"Square Root:\", sqrt_result)\n",
    "print(\"Cosine of 45 degrees:\", cos_result)"
   ]
  },
  {
   "cell_type": "markdown",
   "metadata": {},
   "source": [
    "In this example, we import the `math` module and use its functions `sqrt` and `cos` to perform mathematical calculations."
   ]
  },
  {
   "cell_type": "markdown",
   "metadata": {},
   "source": [
    "#### Import Python Standard Library Module\n",
    "\n",
    "[The Python standard library](https://docs.python.org/3/py-modindex.html) contains well over **200** modules. We can import a module according to our needs.\n",
    "\n",
    "Suppose we want to get the value of `pi`, first we import the math module and use `math.pi`. For example,"
   ]
  },
  {
   "cell_type": "code",
   "execution_count": null,
   "metadata": {},
   "outputs": [],
   "source": [
    "# import standard math module \n",
    "import math\n",
    "\n",
    "# use math.pi to get value of pi\n",
    "print(\"The value of pi is\", math.pi)"
   ]
  },
  {
   "cell_type": "markdown",
   "metadata": {},
   "source": [
    "#### Python import with Renaming\n",
    "\n",
    "In Python, we can also import a module by renaming it. For example,"
   ]
  },
  {
   "cell_type": "code",
   "execution_count": null,
   "metadata": {},
   "outputs": [],
   "source": [
    "# import module by renaming it\n",
    "import math as m\n",
    "\n",
    "print(m.pi)"
   ]
  },
  {
   "cell_type": "markdown",
   "metadata": {},
   "source": [
    "Here, We have renamed the `math` module as `m`. This can save us typing time in some cases.\n",
    "\n",
    "Note that the name `math` is not recognized in our scope. Hence, `math.pi` is invalid, and `m.pi` is the correct implementation.\n",
    "\n",
    "#### Python from...import statement\n",
    "\n",
    "We can import specific names from a module without importing the module as a whole. For example,"
   ]
  },
  {
   "cell_type": "code",
   "execution_count": null,
   "metadata": {},
   "outputs": [],
   "source": [
    "# import only pi from math module\n",
    "from math import pi\n",
    "\n",
    "print(pi)"
   ]
  },
  {
   "cell_type": "markdown",
   "metadata": {},
   "source": [
    "Here, we imported only the `pi` attribute from the `math` module."
   ]
  },
  {
   "cell_type": "markdown",
   "metadata": {},
   "source": [
    "#### dir() && help()\n",
    "\n",
    "You can use dir() and help() to see the details of the module."
   ]
  },
  {
   "cell_type": "code",
   "execution_count": null,
   "metadata": {},
   "outputs": [],
   "source": [
    "import numpy\n",
    "\n",
    "dir(numpy)"
   ]
  },
  {
   "cell_type": "code",
   "execution_count": null,
   "metadata": {},
   "outputs": [],
   "source": [
    "help(numpy)"
   ]
  },
  {
   "cell_type": "markdown",
   "metadata": {},
   "source": [
    "#### Exercise\n",
    "\n",
    "- Check [The Python standard library](https://docs.python.org/3/py-modindex.html), and use module `operator` to concatenate 2 list a, b. "
   ]
  },
  {
   "cell_type": "code",
   "execution_count": null,
   "metadata": {},
   "outputs": [],
   "source": [
    "import operator\n",
    "  \n",
    "a = [\"SSTIA\", \"JI Tech\"]\n",
    "b = [\"Have FUN with Python!!!\"]\n",
    "c = None\n",
    "####################################################################\n",
    "# Choose the member in the operator module to concatenate 2 list a and b,\n",
    "# and store it in c.\n",
    "# Theoretically, the answer should be\n",
    "# [\"SSTIA\", \"JI Tech\", \"Have FUN with Python!!!\"]\n",
    "# ##################################################################\n",
    "# Replace \"pass\" statement with your code\n",
    "pass\n",
    "#####################################################################\n",
    "#                          END OF YOUR CODE                         #\n",
    "#####################################################################\n",
    "print(c)"
   ]
  }
 ],
 "metadata": {
  "kernelspec": {
   "display_name": "Python 3",
   "language": "python",
   "name": "python3"
  },
  "language_info": {
   "codemirror_mode": {
    "name": "ipython",
    "version": 3
   },
   "file_extension": ".py",
   "mimetype": "text/x-python",
   "name": "python",
   "nbconvert_exporter": "python",
   "pygments_lexer": "ipython3",
   "version": "3.10.7"
  },
  "orig_nbformat": 4
 },
 "nbformat": 4,
 "nbformat_minor": 2
}
